{
 "cells": [
  {
   "cell_type": "markdown",
   "metadata": {},
   "source": [
    "# HMM (Hidden Markov Model) Filter Demo\n",
    "\n",
    "This notebook is a demo on how to use HMM filter package with scikit-learn on a toy dataset generated in `dataset.ipynb`:\n",
    "\n",
    "* Step 1: Train scikit-learn `RandomForestClassifier` on training dataset\n",
    "* Step 2: Predict labels for unlabeled dataset using trained random forest\n",
    "* Step 3: Estimate HMM state transition matrix from predicted labels of unlabeled dataset\n",
    "* Step 4: Estimate class probability distributions for test dataset using trained random forest\n",
    "* Step 5: Predict most likely sequence of states for each session in test dataset using HMM filter\n",
    "\n",
    "[HMMs](https://en.wikipedia.org/wiki/Hidden_Markov_model) are defined by hidden states, state transition probabilities, possible observations and their emission probabilities. In our problem, the HMM parameters are the following:\n",
    "\n",
    "* Hidden states are drawn from the categorical distribution of the classification class labels. E.g., `\"0:0\"`\n",
    "* State transition probabilities are represented by the state transition matrix. E.g., `P(\"0:0 -> \"0:1\") = 0.2`\n",
    "* Possible observations are drawn from the categorical distribution of the classification class labels. E.g., `\"0:0\"`\n",
    "* Emission probabilities are estimated by the prediction probability estimates. E.g., `{\"0:0\": 0.4, \"0:1\": 0.6}`\n",
    "\n",
    "The HMM filter revises the predictions accordingly to their uncertainty and the state transition matrix estimated from unlabeled data using the [Viterbi algorithm](https://en.wikipedia.org/wiki/Viterbi_algorithm). E.g, it might suggest to revise the sequence of predictions `[\"0:0\", \"1:1\", \"0:0\"]` to `[\"0:0\", \"0:0\", \"0:0\"]` since it is more likely to remain in the same cell (accordingly to the transition matrix) and the classifier was uncertain about the correct label in the 2nd position (E.g., `{\"0:0\": 0.8, \"1:1\": 0.2}`).\n",
    "\n",
    "\n",
    "Accuracy is used as the evaluation metric."
   ]
  },
  {
   "cell_type": "code",
   "execution_count": 1,
   "metadata": {},
   "outputs": [],
   "source": [
    "# Imports\n",
    "\n",
    "# Disable future warnings\n",
    "import warnings\n",
    "warnings.simplefilter(action='ignore', category=FutureWarning)\n",
    "\n",
    "from os import cpu_count\n",
    "import pandas as pd\n",
    "import numpy as np\n",
    "from sklearn.ensemble import RandomForestClassifier\n",
    "from sklearn.model_selection import cross_validate\n",
    "from hmm_filter.hmm_filter import HMMFilter\n"
   ]
  },
  {
   "cell_type": "code",
   "execution_count": 2,
   "metadata": {},
   "outputs": [],
   "source": [
    "# Configuration\n",
    "\n",
    "# Training dataset, used to train a classifier to predict column true_class based on the x,y features\n",
    "train_pathname = \"data/train.csv\"\n",
    "\n",
    "# Test dataset, used to evaluate the predictions\n",
    "test_pathname = \"data/test.csv\"\n",
    "\n",
    "# Dataset of measurements without known true_class label, used to evaluate the HMM transition matrix\n",
    "unlabeled_pathname = \"data/unlabeled.csv\"\n"
   ]
  },
  {
   "cell_type": "markdown",
   "metadata": {},
   "source": [
    "## Load datasets\n"
   ]
  },
  {
   "cell_type": "code",
   "execution_count": 3,
   "metadata": {},
   "outputs": [],
   "source": [
    "# Load input datasets\n",
    "train_dataset = pd.read_csv(train_pathname)\n",
    "unlabeled_dataset = pd.read_csv(unlabeled_pathname)\n",
    "test_dataset = pd.read_csv(test_pathname)\n",
    "\n",
    "# Sort rows in ascending timestamp order (already sorted, but included here to stress that rows need to be ordered)\n",
    "unlabeled_dataset.sort_values(\"timestamp\", ascending=True, inplace=True)\n",
    "test_dataset.sort_values(\"timestamp\", ascending=True, inplace=True)\n"
   ]
  },
  {
   "cell_type": "code",
   "execution_count": 4,
   "metadata": {},
   "outputs": [
    {
     "data": {
      "text/html": [
       "<div>\n",
       "<style scoped>\n",
       "    .dataframe tbody tr th:only-of-type {\n",
       "        vertical-align: middle;\n",
       "    }\n",
       "\n",
       "    .dataframe tbody tr th {\n",
       "        vertical-align: top;\n",
       "    }\n",
       "\n",
       "    .dataframe thead th {\n",
       "        text-align: right;\n",
       "    }\n",
       "</style>\n",
       "<table border=\"1\" class=\"dataframe\">\n",
       "  <thead>\n",
       "    <tr style=\"text-align: right;\">\n",
       "      <th></th>\n",
       "      <th>session_id</th>\n",
       "      <th>timestamp</th>\n",
       "      <th>x_sample</th>\n",
       "      <th>y_sample</th>\n",
       "      <th>true_class</th>\n",
       "    </tr>\n",
       "  </thead>\n",
       "  <tbody>\n",
       "    <tr>\n",
       "      <th>0</th>\n",
       "      <td>0</td>\n",
       "      <td>0</td>\n",
       "      <td>2.07</td>\n",
       "      <td>1.81</td>\n",
       "      <td>2:2</td>\n",
       "    </tr>\n",
       "    <tr>\n",
       "      <th>1</th>\n",
       "      <td>0</td>\n",
       "      <td>1</td>\n",
       "      <td>1.84</td>\n",
       "      <td>1.90</td>\n",
       "      <td>2:2</td>\n",
       "    </tr>\n",
       "    <tr>\n",
       "      <th>2</th>\n",
       "      <td>0</td>\n",
       "      <td>2</td>\n",
       "      <td>1.98</td>\n",
       "      <td>1.98</td>\n",
       "      <td>2:2</td>\n",
       "    </tr>\n",
       "    <tr>\n",
       "      <th>3</th>\n",
       "      <td>0</td>\n",
       "      <td>3</td>\n",
       "      <td>1.99</td>\n",
       "      <td>1.99</td>\n",
       "      <td>2:2</td>\n",
       "    </tr>\n",
       "    <tr>\n",
       "      <th>4</th>\n",
       "      <td>0</td>\n",
       "      <td>4</td>\n",
       "      <td>2.14</td>\n",
       "      <td>2.08</td>\n",
       "      <td>2:2</td>\n",
       "    </tr>\n",
       "  </tbody>\n",
       "</table>\n",
       "</div>"
      ],
      "text/plain": [
       "   session_id  timestamp  x_sample  y_sample true_class\n",
       "0           0          0      2.07      1.81        2:2\n",
       "1           0          1      1.84      1.90        2:2\n",
       "2           0          2      1.98      1.98        2:2\n",
       "3           0          3      1.99      1.99        2:2\n",
       "4           0          4      2.14      2.08        2:2"
      ]
     },
     "execution_count": 4,
     "metadata": {},
     "output_type": "execute_result"
    }
   ],
   "source": [
    "train_dataset.head()"
   ]
  },
  {
   "cell_type": "code",
   "execution_count": 5,
   "metadata": {},
   "outputs": [
    {
     "data": {
      "text/html": [
       "<div>\n",
       "<style scoped>\n",
       "    .dataframe tbody tr th:only-of-type {\n",
       "        vertical-align: middle;\n",
       "    }\n",
       "\n",
       "    .dataframe tbody tr th {\n",
       "        vertical-align: top;\n",
       "    }\n",
       "\n",
       "    .dataframe thead th {\n",
       "        text-align: right;\n",
       "    }\n",
       "</style>\n",
       "<table border=\"1\" class=\"dataframe\">\n",
       "  <thead>\n",
       "    <tr style=\"text-align: right;\">\n",
       "      <th></th>\n",
       "      <th>session_id</th>\n",
       "      <th>timestamp</th>\n",
       "      <th>x_sample</th>\n",
       "      <th>y_sample</th>\n",
       "      <th>true_class</th>\n",
       "    </tr>\n",
       "  </thead>\n",
       "  <tbody>\n",
       "    <tr>\n",
       "      <th>0</th>\n",
       "      <td>0</td>\n",
       "      <td>20000</td>\n",
       "      <td>3.93</td>\n",
       "      <td>0.37</td>\n",
       "      <td>4:0</td>\n",
       "    </tr>\n",
       "    <tr>\n",
       "      <th>1</th>\n",
       "      <td>0</td>\n",
       "      <td>20001</td>\n",
       "      <td>3.77</td>\n",
       "      <td>0.38</td>\n",
       "      <td>4:0</td>\n",
       "    </tr>\n",
       "    <tr>\n",
       "      <th>2</th>\n",
       "      <td>0</td>\n",
       "      <td>20002</td>\n",
       "      <td>3.94</td>\n",
       "      <td>0.45</td>\n",
       "      <td>4:0</td>\n",
       "    </tr>\n",
       "    <tr>\n",
       "      <th>3</th>\n",
       "      <td>0</td>\n",
       "      <td>20003</td>\n",
       "      <td>3.71</td>\n",
       "      <td>0.42</td>\n",
       "      <td>4:0</td>\n",
       "    </tr>\n",
       "    <tr>\n",
       "      <th>4</th>\n",
       "      <td>0</td>\n",
       "      <td>20004</td>\n",
       "      <td>3.85</td>\n",
       "      <td>0.19</td>\n",
       "      <td>4:0</td>\n",
       "    </tr>\n",
       "  </tbody>\n",
       "</table>\n",
       "</div>"
      ],
      "text/plain": [
       "   session_id  timestamp  x_sample  y_sample true_class\n",
       "0           0      20000      3.93      0.37        4:0\n",
       "1           0      20001      3.77      0.38        4:0\n",
       "2           0      20002      3.94      0.45        4:0\n",
       "3           0      20003      3.71      0.42        4:0\n",
       "4           0      20004      3.85      0.19        4:0"
      ]
     },
     "execution_count": 5,
     "metadata": {},
     "output_type": "execute_result"
    }
   ],
   "source": [
    "test_dataset.head()"
   ]
  },
  {
   "cell_type": "code",
   "execution_count": 6,
   "metadata": {},
   "outputs": [
    {
     "data": {
      "text/html": [
       "<div>\n",
       "<style scoped>\n",
       "    .dataframe tbody tr th:only-of-type {\n",
       "        vertical-align: middle;\n",
       "    }\n",
       "\n",
       "    .dataframe tbody tr th {\n",
       "        vertical-align: top;\n",
       "    }\n",
       "\n",
       "    .dataframe thead th {\n",
       "        text-align: right;\n",
       "    }\n",
       "</style>\n",
       "<table border=\"1\" class=\"dataframe\">\n",
       "  <thead>\n",
       "    <tr style=\"text-align: right;\">\n",
       "      <th></th>\n",
       "      <th>session_id</th>\n",
       "      <th>timestamp</th>\n",
       "      <th>x_sample</th>\n",
       "      <th>y_sample</th>\n",
       "    </tr>\n",
       "  </thead>\n",
       "  <tbody>\n",
       "    <tr>\n",
       "      <th>0</th>\n",
       "      <td>0</td>\n",
       "      <td>40000</td>\n",
       "      <td>3.98</td>\n",
       "      <td>3.22</td>\n",
       "    </tr>\n",
       "    <tr>\n",
       "      <th>1</th>\n",
       "      <td>0</td>\n",
       "      <td>40001</td>\n",
       "      <td>4.01</td>\n",
       "      <td>3.20</td>\n",
       "    </tr>\n",
       "    <tr>\n",
       "      <th>2</th>\n",
       "      <td>0</td>\n",
       "      <td>40002</td>\n",
       "      <td>4.02</td>\n",
       "      <td>3.10</td>\n",
       "    </tr>\n",
       "    <tr>\n",
       "      <th>3</th>\n",
       "      <td>0</td>\n",
       "      <td>40003</td>\n",
       "      <td>3.87</td>\n",
       "      <td>3.32</td>\n",
       "    </tr>\n",
       "    <tr>\n",
       "      <th>4</th>\n",
       "      <td>0</td>\n",
       "      <td>40004</td>\n",
       "      <td>3.85</td>\n",
       "      <td>3.24</td>\n",
       "    </tr>\n",
       "  </tbody>\n",
       "</table>\n",
       "</div>"
      ],
      "text/plain": [
       "   session_id  timestamp  x_sample  y_sample\n",
       "0           0      40000      3.98      3.22\n",
       "1           0      40001      4.01      3.20\n",
       "2           0      40002      4.02      3.10\n",
       "3           0      40003      3.87      3.32\n",
       "4           0      40004      3.85      3.24"
      ]
     },
     "execution_count": 6,
     "metadata": {},
     "output_type": "execute_result"
    }
   ],
   "source": [
    "unlabeled_dataset.head()"
   ]
  },
  {
   "cell_type": "code",
   "execution_count": 7,
   "metadata": {},
   "outputs": [
    {
     "data": {
      "text/plain": [
       "(20000, 20000, 1000000)"
      ]
     },
     "execution_count": 7,
     "metadata": {},
     "output_type": "execute_result"
    }
   ],
   "source": [
    "len(train_dataset), len(test_dataset), len(unlabeled_dataset)"
   ]
  },
  {
   "cell_type": "markdown",
   "metadata": {},
   "source": [
    "## Extract features and labels"
   ]
  },
  {
   "cell_type": "code",
   "execution_count": 8,
   "metadata": {},
   "outputs": [],
   "source": [
    "# Prepare features and labels\n",
    "\n",
    "# training dataset\n",
    "X_train = train_dataset[[\"x_sample\", \"y_sample\"]].values\n",
    "y_train = train_dataset[\"true_class\"].values\n",
    "\n",
    "# test dataset\n",
    "X_test = test_dataset[[\"x_sample\", \"y_sample\"]].values\n",
    "y_test = test_dataset[\"true_class\"].values\n",
    "\n",
    "# unlabeled dataset\n",
    "X_unlabeled = unlabeled_dataset[[\"x_sample\", \"y_sample\"]].values\n"
   ]
  },
  {
   "cell_type": "markdown",
   "metadata": {},
   "source": [
    "## Step 1: Train random forest classifier"
   ]
  },
  {
   "cell_type": "code",
   "execution_count": 9,
   "metadata": {},
   "outputs": [
    {
     "data": {
      "text/plain": [
       "0.7945002684801719"
      ]
     },
     "execution_count": 9,
     "metadata": {},
     "output_type": "execute_result"
    }
   ],
   "source": [
    "# cross-validate random forest model on training dataset\n",
    "clf = RandomForestClassifier(n_jobs=cpu_count())\n",
    "\n",
    "# print average accuracy across all folds\n",
    "avg_accuracy = np.mean(cross_validate(clf, X_train, y_train, cv=2, scoring=\"accuracy\")[\"test_score\"])\n",
    "avg_accuracy"
   ]
  },
  {
   "cell_type": "code",
   "execution_count": 10,
   "metadata": {},
   "outputs": [
    {
     "data": {
      "text/plain": [
       "RandomForestClassifier(bootstrap=True, class_weight=None, criterion='gini',\n",
       "            max_depth=None, max_features='auto', max_leaf_nodes=None,\n",
       "            min_impurity_decrease=0.0, min_impurity_split=None,\n",
       "            min_samples_leaf=1, min_samples_split=2,\n",
       "            min_weight_fraction_leaf=0.0, n_estimators=10, n_jobs=2,\n",
       "            oob_score=False, random_state=None, verbose=0,\n",
       "            warm_start=False)"
      ]
     },
     "execution_count": 10,
     "metadata": {},
     "output_type": "execute_result"
    }
   ],
   "source": [
    "# Instantiate random forest classifier and fit to training data\n",
    "clf = RandomForestClassifier(n_jobs=cpu_count())\n",
    "clf.fit(X_train, y_train)\n"
   ]
  },
  {
   "cell_type": "code",
   "execution_count": 11,
   "metadata": {},
   "outputs": [
    {
     "data": {
      "text/plain": [
       "0.80715"
      ]
     },
     "execution_count": 11,
     "metadata": {},
     "output_type": "execute_result"
    }
   ],
   "source": [
    "# Evaluation of trained random forest on test dataset\n",
    "test_dataset[\"prediction_rf\"] = clf.predict(X_test)\n",
    "\n",
    "# Evaluate accuracy of predictions\n",
    "rf_accuracy = len(test_dataset[test_dataset.true_class == test_dataset.prediction_rf]) / len(test_dataset)\n",
    "rf_accuracy"
   ]
  },
  {
   "cell_type": "markdown",
   "metadata": {},
   "source": [
    "## Step 2: Predict labels for unlabeled dataset"
   ]
  },
  {
   "cell_type": "code",
   "execution_count": 12,
   "metadata": {},
   "outputs": [],
   "source": [
    "# predict classes for unabeled dataset\n",
    "unlabeled_dataset[\"prediction_rf\"] = clf.predict(X_unlabeled)\n"
   ]
  },
  {
   "cell_type": "markdown",
   "metadata": {},
   "source": [
    "## Step 3: Estimate HMM state transition matrix"
   ]
  },
  {
   "cell_type": "code",
   "execution_count": 13,
   "metadata": {},
   "outputs": [],
   "source": [
    "# train HMM filter by estimating the state transition matrix\n",
    "hmmfilter = HMMFilter()\n",
    "hmmfilter.fit(unlabeled_dataset, session_column=\"session_id\", prediction_column=\"prediction_rf\")\n"
   ]
  },
  {
   "cell_type": "code",
   "execution_count": 14,
   "metadata": {},
   "outputs": [
    {
     "data": {
      "text/plain": [
       "0.7159761363261808"
      ]
     },
     "execution_count": 14,
     "metadata": {},
     "output_type": "execute_result"
    }
   ],
   "source": [
    "# what's the probability to remain in one cell?\n",
    "hmmfilter.A[('2:2', '2:2')]"
   ]
  },
  {
   "cell_type": "code",
   "execution_count": 15,
   "metadata": {},
   "outputs": [
    {
     "data": {
      "text/plain": [
       "0.06343320478591911"
      ]
     },
     "execution_count": 15,
     "metadata": {},
     "output_type": "execute_result"
    }
   ],
   "source": [
    "# what's the probability to jump on the right by one cell (one jump)?\n",
    "hmmfilter.A[('2:2', '2:3')]"
   ]
  },
  {
   "cell_type": "code",
   "execution_count": 16,
   "metadata": {},
   "outputs": [
    {
     "data": {
      "text/plain": [
       "0.007960051418965688"
      ]
     },
     "execution_count": 16,
     "metadata": {},
     "output_type": "execute_result"
    }
   ],
   "source": [
    "# what's the probability to jump on the right and to the top by one cell (two jumps)?\n",
    "hmmfilter.A[('2:2', '3:3')]"
   ]
  },
  {
   "cell_type": "markdown",
   "metadata": {},
   "source": [
    "The estimated probabilities are intuitively what one would expect: it is likely to remain in the same cell, less likely to jump to a neighboring cell in one direction, and even less likely to jump along both axes to a neighboring cell."
   ]
  },
  {
   "cell_type": "markdown",
   "metadata": {},
   "source": [
    "## Step 4: Estimate class probability distributions"
   ]
  },
  {
   "cell_type": "code",
   "execution_count": 17,
   "metadata": {},
   "outputs": [
    {
     "data": {
      "text/html": [
       "<div>\n",
       "<style scoped>\n",
       "    .dataframe tbody tr th:only-of-type {\n",
       "        vertical-align: middle;\n",
       "    }\n",
       "\n",
       "    .dataframe tbody tr th {\n",
       "        vertical-align: top;\n",
       "    }\n",
       "\n",
       "    .dataframe thead th {\n",
       "        text-align: right;\n",
       "    }\n",
       "</style>\n",
       "<table border=\"1\" class=\"dataframe\">\n",
       "  <thead>\n",
       "    <tr style=\"text-align: right;\">\n",
       "      <th></th>\n",
       "      <th>session_id</th>\n",
       "      <th>timestamp</th>\n",
       "      <th>x_sample</th>\n",
       "      <th>y_sample</th>\n",
       "      <th>true_class</th>\n",
       "      <th>prediction_rf</th>\n",
       "      <th>probabs</th>\n",
       "    </tr>\n",
       "  </thead>\n",
       "  <tbody>\n",
       "    <tr>\n",
       "      <th>0</th>\n",
       "      <td>0</td>\n",
       "      <td>20000</td>\n",
       "      <td>3.93</td>\n",
       "      <td>0.37</td>\n",
       "      <td>4:0</td>\n",
       "      <td>4:0</td>\n",
       "      <td>{'4:0': 0.8, '4:1': 0.2}</td>\n",
       "    </tr>\n",
       "    <tr>\n",
       "      <th>1</th>\n",
       "      <td>0</td>\n",
       "      <td>20001</td>\n",
       "      <td>3.77</td>\n",
       "      <td>0.38</td>\n",
       "      <td>4:0</td>\n",
       "      <td>4:0</td>\n",
       "      <td>{'4:0': 0.725, '4:1': 0.275}</td>\n",
       "    </tr>\n",
       "    <tr>\n",
       "      <th>2</th>\n",
       "      <td>0</td>\n",
       "      <td>20002</td>\n",
       "      <td>3.94</td>\n",
       "      <td>0.45</td>\n",
       "      <td>4:0</td>\n",
       "      <td>4:0</td>\n",
       "      <td>{'4:0': 0.9, '4:1': 0.1}</td>\n",
       "    </tr>\n",
       "    <tr>\n",
       "      <th>3</th>\n",
       "      <td>0</td>\n",
       "      <td>20003</td>\n",
       "      <td>3.71</td>\n",
       "      <td>0.42</td>\n",
       "      <td>4:0</td>\n",
       "      <td>4:0</td>\n",
       "      <td>{'4:0': 1.0}</td>\n",
       "    </tr>\n",
       "    <tr>\n",
       "      <th>4</th>\n",
       "      <td>0</td>\n",
       "      <td>20004</td>\n",
       "      <td>3.85</td>\n",
       "      <td>0.19</td>\n",
       "      <td>4:0</td>\n",
       "      <td>4:0</td>\n",
       "      <td>{'4:0': 1.0}</td>\n",
       "    </tr>\n",
       "  </tbody>\n",
       "</table>\n",
       "</div>"
      ],
      "text/plain": [
       "   session_id  timestamp  x_sample  y_sample true_class prediction_rf  \\\n",
       "0           0      20000      3.93      0.37        4:0           4:0   \n",
       "1           0      20001      3.77      0.38        4:0           4:0   \n",
       "2           0      20002      3.94      0.45        4:0           4:0   \n",
       "3           0      20003      3.71      0.42        4:0           4:0   \n",
       "4           0      20004      3.85      0.19        4:0           4:0   \n",
       "\n",
       "                        probabs  \n",
       "0      {'4:0': 0.8, '4:1': 0.2}  \n",
       "1  {'4:0': 0.725, '4:1': 0.275}  \n",
       "2      {'4:0': 0.9, '4:1': 0.1}  \n",
       "3                  {'4:0': 1.0}  \n",
       "4                  {'4:0': 1.0}  "
      ]
     },
     "execution_count": 17,
     "metadata": {},
     "output_type": "execute_result"
    }
   ],
   "source": [
    "# estimate random forest class probabilities\n",
    "d = pd.DataFrame.from_records(clf.predict_proba(X_test), columns=clf.classes_).to_dict(orient=\"records\")\n",
    "test_dataset[\"probabs\"] = [{ k:v for k,v in r.items() if v > 0} for r in d ]\n",
    "test_dataset.head()"
   ]
  },
  {
   "cell_type": "markdown",
   "metadata": {},
   "source": [
    "Column `probabs` reflects the prediction uncertainty of the random forest classifier. In the first row, the predicted class label is `\"4:0\"` with probability `0.9` and `\"4:1\"` with probability `0.1`."
   ]
  },
  {
   "cell_type": "markdown",
   "metadata": {},
   "source": [
    "## Step 5: Predict most likely sequence of states using HMM filter"
   ]
  },
  {
   "cell_type": "code",
   "execution_count": 18,
   "metadata": {},
   "outputs": [],
   "source": [
    "# We can now combine the transition matrix (probability of jumping between\n",
    "# any pair of class labels) with the probabilistic class predictions.\n",
    "# Since the dataset is splitted by session ID, and each session is processed\n",
    "# in parallel, a new dataframe is returned.\n",
    "df = hmmfilter.predict(test_dataset, session_column='session_id', probabs_column=\"probabs\", prediction_column='prediction')\n"
   ]
  },
  {
   "cell_type": "code",
   "execution_count": 19,
   "metadata": {},
   "outputs": [
    {
     "data": {
      "text/plain": [
       "0.8751"
      ]
     },
     "execution_count": 19,
     "metadata": {},
     "output_type": "execute_result"
    }
   ],
   "source": [
    "# Evaluate accuracy of predictions\n",
    "hmm_accuracy = len(df[df.true_class == df.prediction]) / len(df)\n",
    "hmm_accuracy"
   ]
  },
  {
   "cell_type": "markdown",
   "metadata": {},
   "source": [
    "## Comparison of accuracy results"
   ]
  },
  {
   "cell_type": "code",
   "execution_count": 20,
   "metadata": {},
   "outputs": [
    {
     "name": "stdout",
     "output_type": "stream",
     "text": [
      "Accuracy of the Random Forest classifier (RF) is 80.72%\n",
      "Accuracy of the HMM filter applied on the Random Forest classifier (MM-RF) is 87.51%\n",
      "HMM filter contribution to accuracy is 6.79%\n"
     ]
    }
   ],
   "source": [
    "print(\"Accuracy of the Random Forest classifier (RF) is {:.2f}%\".format(rf_accuracy * 100))\n",
    "print(\"Accuracy of the HMM filter applied on the Random Forest classifier (MM-RF) is {:.2f}%\".format(hmm_accuracy * 100))\n",
    "print(\"HMM filter contribution to accuracy is {:.2f}%\".format((hmm_accuracy - rf_accuracy) * 100))"
   ]
  },
  {
   "cell_type": "markdown",
   "metadata": {},
   "source": [
    "## Conclusions"
   ]
  },
  {
   "cell_type": "markdown",
   "metadata": {},
   "source": [
    "The HMM filter provided an increase in accuracy of 6.28% (absoulte percentage). Varying the properties of the synthetic dataset, we ontaomed an accuracy increase that ranges between zero and 10%, depending on how much data you use for training the classifier and the transition matrix, and the noise standard deviation. In general, the HMM filter is rather robust: either it provides a better accuracy or accuracy remains the same."
   ]
  },
  {
   "cell_type": "code",
   "execution_count": null,
   "metadata": {},
   "outputs": [],
   "source": []
  }
 ],
 "metadata": {
  "kernelspec": {
   "display_name": "Python 3",
   "language": "python",
   "name": "python3"
  },
  "language_info": {
   "codemirror_mode": {
    "name": "ipython",
    "version": 3
   },
   "file_extension": ".py",
   "mimetype": "text/x-python",
   "name": "python",
   "nbconvert_exporter": "python",
   "pygments_lexer": "ipython3",
   "version": "3.6.3"
  }
 },
 "nbformat": 4,
 "nbformat_minor": 2
}
